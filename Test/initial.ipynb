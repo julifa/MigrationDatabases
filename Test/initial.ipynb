{
 "cells": [
  {
   "cell_type": "markdown",
   "metadata": {},
   "source": [
    "## Test Area"
   ]
  },
  {
   "cell_type": "code",
   "execution_count": 1,
   "metadata": {},
   "outputs": [],
   "source": [
    "import pandas as pd"
   ]
  },
  {
   "cell_type": "code",
   "execution_count": 2,
   "metadata": {},
   "outputs": [],
   "source": [
    "departments = pd.read_csv('../raw_csv/departments.csv')\n",
    "hired_employees = pd.read_csv('../raw_csv/hired_employees.csv')\n",
    "jobs = pd.read_csv('../raw_csv/jobs.csv')"
   ]
  },
  {
   "cell_type": "code",
   "execution_count": 3,
   "metadata": {},
   "outputs": [
    {
     "name": "stdout",
     "output_type": "stream",
     "text": [
      "   1        Product Management\n",
      "0  2                     Sales\n",
      "1  3  Research and Development\n",
      "2  4      Business Development\n",
      "3  5               Engineering\n",
      "4  6           Human Resources\n"
     ]
    }
   ],
   "source": [
    "print(departments.head())"
   ]
  },
  {
   "cell_type": "code",
   "execution_count": 4,
   "metadata": {},
   "outputs": [
    {
     "name": "stdout",
     "output_type": "stream",
     "text": [
      "   1     Harold Vogt  2021-11-07T02:48:42Z     2    96\n",
      "0  2        Ty Hofer  2021-05-30T05:43:46Z   8.0   NaN\n",
      "1  3     Lyman Hadye  2021-09-01T23:27:38Z   5.0  52.0\n",
      "2  4   Lotti Crowthe  2021-10-01T13:04:21Z  12.0  71.0\n",
      "3  5  Gretna Lording  2021-10-10T22:22:17Z   6.0  80.0\n",
      "4  6  Marlow Antecki  2021-04-23T23:45:42Z   6.0  95.0\n"
     ]
    }
   ],
   "source": [
    "print(hired_employees.head())"
   ]
  },
  {
   "cell_type": "code",
   "execution_count": 5,
   "metadata": {},
   "outputs": [
    {
     "name": "stdout",
     "output_type": "stream",
     "text": [
      "   1        Marketing Assistant\n",
      "0  2                   VP Sales\n",
      "1  3         Biostatistician IV\n",
      "2  4  Account Representative II\n",
      "3  5               VP Marketing\n",
      "4  6   Environmental Specialist\n"
     ]
    }
   ],
   "source": [
    "print(jobs.head())"
   ]
  },
  {
   "cell_type": "markdown",
   "metadata": {},
   "source": [
    "### Testing SQLite"
   ]
  },
  {
   "cell_type": "code",
   "execution_count": 6,
   "metadata": {},
   "outputs": [],
   "source": [
    "import sqlite3\n",
    "from sqlite3 import Error"
   ]
  },
  {
   "cell_type": "code",
   "execution_count": 7,
   "metadata": {},
   "outputs": [],
   "source": [
    "# Function to create a database connection\n",
    "def create_connection(db_file):\n",
    "\n",
    "    conn = None\n",
    "    try:\n",
    "        conn = sqlite3.connect(db_file)\n",
    "        print(\"Connected to test database.\")\n",
    "    except Error as e:\n",
    "        print(e)\n",
    "    return conn\n",
    "\n",
    "# Function to create a table\n",
    "def create_table(conn, create_table_sql):\n",
    "\n",
    "    try:\n",
    "        c = conn.cursor()\n",
    "        c.execute(create_table_sql)\n",
    "    except Error as e:\n",
    "        print(e)\n",
    "\n",
    "# Main function to set up the database\n",
    "def main_db():\n",
    "    database = \"../db/test_77.db\"  \n",
    "\n",
    "    #Table creation query\n",
    "    db_departments_table = \"\"\" CREATE TABLE IF NOT EXISTS departments (\n",
    "                                        id INTEGER PRIMARY KEY,\n",
    "                                        department TEXT\n",
    "                                    ); \"\"\"\n",
    "\n",
    "    #Database conn\n",
    "    conn = create_connection(database)\n",
    "\n",
    "    if conn is not None:\n",
    "        create_table(conn, db_departments_table)\n",
    "\n",
    "        print(\"Table created successfully.\")\n",
    "    else:\n",
    "        print(\"Error! cant connect to the db.\")\n",
    "\n",
    "    # Close the connection\n",
    "    conn.close()"
   ]
  },
  {
   "cell_type": "code",
   "execution_count": 8,
   "metadata": {},
   "outputs": [
    {
     "name": "stdout",
     "output_type": "stream",
     "text": [
      "Connected to test database.\n",
      "Table created successfully.\n"
     ]
    }
   ],
   "source": [
    "main_db()"
   ]
  },
  {
   "cell_type": "code",
   "execution_count": 1,
   "metadata": {},
   "outputs": [
    {
     "name": "stdout",
     "output_type": "stream",
     "text": [
      "Table created successfully!\n"
     ]
    }
   ],
   "source": [
    "import sqlite3\n",
    "\n",
    "# Create a connection to the database (replace 'your_database.db' with the actual filename)\n",
    "conn = sqlite3.connect('your_database.db')\n",
    "c = conn.cursor()\n",
    "\n",
    "# Define the SQL statement to create the table\n",
    "create_table_sql = '''\n",
    "CREATE TABLE department_job_hires (\n",
    "    department TEXT,\n",
    "    job TEXT,\n",
    "    Q1 INTEGER,\n",
    "    Q2 INTEGER,\n",
    "    Q3 INTEGER,\n",
    "    Q4 INTEGER\n",
    ");\n",
    "'''\n",
    "\n",
    "# Execute the CREATE TABLE statement\n",
    "c.execute(create_table_sql)\n",
    "\n",
    "# Insert data into the table (assuming you have a cursor object 'c' pointing to the table)\n",
    "# This part is not included since you don't want to insert data from an external source\n",
    "\n",
    "# Commit the changes\n",
    "conn.commit()\n",
    "\n",
    "# Close the connection\n",
    "conn.close()\n",
    "\n",
    "print(\"Table created successfully!\")"
   ]
  }
 ],
 "metadata": {
  "kernelspec": {
   "display_name": "base",
   "language": "python",
   "name": "python3"
  },
  "language_info": {
   "codemirror_mode": {
    "name": "ipython",
    "version": 3
   },
   "file_extension": ".py",
   "mimetype": "text/x-python",
   "name": "python",
   "nbconvert_exporter": "python",
   "pygments_lexer": "ipython3",
   "version": "3.11.2"
  }
 },
 "nbformat": 4,
 "nbformat_minor": 2
}
